{
 "cells": [
  {
   "cell_type": "markdown",
   "metadata": {
    "id": "p1b9IqDY5_Ha"
   },
   "source": [
    "## Data Preproccessing"
   ]
  },
  {
   "cell_type": "code",
   "execution_count": 2,
   "metadata": {
    "id": "Y6XCq8dB2OUI"
   },
   "outputs": [],
   "source": [
    "import matplotlib.pyplot as plt\n",
    "import seaborn as sns\n",
    "import tensorflow as tf\n",
    "from keras.models import load_model\n",
    "from datapreprocessing import get_cleaned_data"
   ]
  },
  {
   "cell_type": "markdown",
   "metadata": {},
   "source": [
    "### how to run and import preproccessed data"
   ]
  },
  {
   "cell_type": "code",
   "execution_count": 1,
   "metadata": {},
   "outputs": [
    {
     "name": "stdout",
     "output_type": "stream",
     "text": [
      "Requirement already satisfied: nltk in /home/viking/DEV/Cryoto/API/SpamFilter/lib/python3.10/site-packages (3.7)\r\n",
      "Requirement already satisfied: joblib in /home/viking/DEV/Cryoto/API/SpamFilter/lib/python3.10/site-packages (from nltk) (1.2.0)\r\n",
      "Requirement already satisfied: regex>=2021.8.3 in /home/viking/DEV/Cryoto/API/SpamFilter/lib/python3.10/site-packages (from nltk) (2022.10.31)\r\n",
      "Requirement already satisfied: click in /home/viking/DEV/Cryoto/API/SpamFilter/lib/python3.10/site-packages (from nltk) (8.1.3)\r\n",
      "Requirement already satisfied: tqdm in /home/viking/DEV/Cryoto/API/SpamFilter/lib/python3.10/site-packages (from nltk) (4.64.1)\r\n",
      "\u001B[33mWARNING: You are using pip version 21.3.1; however, version 22.3.1 is available.\r\n",
      "You should consider upgrading via the '/home/viking/DEV/Cryoto/API/SpamFilter/bin/python -m pip install --upgrade pip' command.\u001B[0m\r\n",
      "/usr/lib/python3.10/runpy.py:126: RuntimeWarning: 'nltk.downloader' found in sys.modules after import of package 'nltk', but prior to execution of 'nltk.downloader'; this may result in unpredictable behaviour\r\n",
      "  warn(RuntimeWarning(msg))\r\n",
      "[nltk_data] Downloading package stopwords to /home/viking/nltk_data...\r\n",
      "[nltk_data]   Package stopwords is already up-to-date!\r\n",
      "Requirement already satisfied: imblearn in /home/viking/DEV/Cryoto/API/SpamFilter/lib/python3.10/site-packages (0.0)\r\n",
      "Requirement already satisfied: imbalanced-learn in /home/viking/DEV/Cryoto/API/SpamFilter/lib/python3.10/site-packages (from imblearn) (0.10.0)\r\n",
      "Requirement already satisfied: threadpoolctl>=2.0.0 in /home/viking/DEV/Cryoto/API/SpamFilter/lib/python3.10/site-packages (from imbalanced-learn->imblearn) (3.1.0)\r\n",
      "Requirement already satisfied: numpy>=1.17.3 in /home/viking/DEV/Cryoto/API/SpamFilter/lib/python3.10/site-packages (from imbalanced-learn->imblearn) (1.23.5)\r\n",
      "Requirement already satisfied: scipy>=1.3.2 in /home/viking/DEV/Cryoto/API/SpamFilter/lib/python3.10/site-packages (from imbalanced-learn->imblearn) (1.9.3)\r\n",
      "Requirement already satisfied: joblib>=1.1.1 in /home/viking/DEV/Cryoto/API/SpamFilter/lib/python3.10/site-packages (from imbalanced-learn->imblearn) (1.2.0)\r\n",
      "Requirement already satisfied: scikit-learn>=1.0.2 in /home/viking/DEV/Cryoto/API/SpamFilter/lib/python3.10/site-packages (from imbalanced-learn->imblearn) (1.1.3)\r\n",
      "\u001B[33mWARNING: You are using pip version 21.3.1; however, version 22.3.1 is available.\r\n",
      "You should consider upgrading via the '/home/viking/DEV/Cryoto/API/SpamFilter/bin/python -m pip install --upgrade pip' command.\u001B[0m\r\n"
     ]
    },
    {
     "name": "stderr",
     "output_type": "stream",
     "text": [
      "2022-12-09 10:28:20.470316: I tensorflow/core/platform/cpu_feature_guard.cc:193] This TensorFlow binary is optimized with oneAPI Deep Neural Network Library (oneDNN) to use the following CPU instructions in performance-critical operations:  AVX2 FMA\n",
      "To enable them in other operations, rebuild TensorFlow with the appropriate compiler flags.\n",
      "2022-12-09 10:28:20.567768: W tensorflow/compiler/xla/stream_executor/platform/default/dso_loader.cc:64] Could not load dynamic library 'libcudart.so.11.0'; dlerror: libcudart.so.11.0: cannot open shared object file: No such file or directory\n",
      "2022-12-09 10:28:20.567783: I tensorflow/compiler/xla/stream_executor/cuda/cudart_stub.cc:29] Ignore above cudart dlerror if you do not have a GPU set up on your machine.\n",
      "2022-12-09 10:28:21.100518: W tensorflow/compiler/xla/stream_executor/platform/default/dso_loader.cc:64] Could not load dynamic library 'libnvinfer.so.7'; dlerror: libnvinfer.so.7: cannot open shared object file: No such file or directory\n",
      "2022-12-09 10:28:21.100569: W tensorflow/compiler/xla/stream_executor/platform/default/dso_loader.cc:64] Could not load dynamic library 'libnvinfer_plugin.so.7'; dlerror: libnvinfer_plugin.so.7: cannot open shared object file: No such file or directory\n",
      "2022-12-09 10:28:21.100573: W tensorflow/compiler/tf2tensorrt/utils/py_utils.cc:38] TF-TRT Warning: Cannot dlopen some TensorRT libraries. If you would like to use Nvidia GPU with TensorRT, please make sure the missing libraries mentioned above are installed properly.\n"
     ]
    },
    {
     "name": "stdout",
     "output_type": "stream",
     "text": [
      "There are 5572 rows and 2 columns\n",
      "  Category                                            Message  Label\n",
      "0      ham  Go until jurong point, crazy.. Available only ...      0\n",
      "1      ham                      Ok lar... Joking wif u oni...      0\n",
      "2     spam  Free entry in 2 a wkly comp to win FA Cup fina...      1\n",
      "3      ham  U dun say so early hor... U c already then say...      0\n",
      "4      ham  Nah I don't think he goes to usf, he lives aro...      0\n",
      "5     spam  FreeMsg Hey there darling it's been 3 week's n...      1\n",
      "6      ham  Even my brother is not like to speak with me. ...      0\n",
      "7      ham  As per your request 'Melle Melle (Oru Minnamin...      0\n",
      "8     spam  WINNER!! As a valued network customer you have...      1\n",
      "9     spam  Had your mobile 11 months or more? U R entitle...      1\n",
      "Category    0\n",
      "Message     1\n",
      "Label       0\n",
      "dtype: int64\n",
      "There are 5571 rows and 3 columns\n",
      "ham     4824\n",
      "spam     747\n",
      "Name: Category, dtype: int64\n"
     ]
    },
    {
     "name": "stderr",
     "output_type": "stream",
     "text": [
      "/tmp/ipykernel_17872/820376427.py:4: FutureWarning: In a future version of pandas all arguments of DataFrame.drop except for the argument 'labels' will be keyword-only.\n",
      "  df.drop(df.columns.difference(['v1','v2']), 1, inplace=True)\n"
     ]
    },
    {
     "data": {
      "text/plain": "<Figure size 640x480 with 1 Axes>",
      "image/png": "[encoded data removed]"
     },
     "metadata": {},
     "output_type": "display_data"
    },
    {
     "name": "stdout",
     "output_type": "stream",
     "text": [
      "                                             Message  Label\n",
      "0  go jurong point crazi avail bugi n great world...      0\n",
      "1                              ok lar joke wif u oni      0\n",
      "2  free entri wkli comp win fa cup final tkt st m...      1\n",
      "3                u dun say earli hor u c alreadi say      0\n",
      "4               nah think goe usf live around though      0\n"
     ]
    },
    {
     "name": "stderr",
     "output_type": "stream",
     "text": [
      "/tmp/ipykernel_17872/820376427.py:88: VisibleDeprecationWarning: Creating an ndarray from ragged nested sequences (which is a list-or-tuple of lists-or-tuples-or ndarrays with different lengths or shapes) is deprecated. If you meant to do this, you must specify 'dtype=object' when creating the ndarray.\n",
      "  X_train = np.array(tokenizer.texts_to_sequences(X_train))\n",
      "/tmp/ipykernel_17872/820376427.py:89: VisibleDeprecationWarning: Creating an ndarray from ragged nested sequences (which is a list-or-tuple of lists-or-tuples-or ndarrays with different lengths or shapes) is deprecated. If you meant to do this, you must specify 'dtype=object' when creating the ndarray.\n",
      "  X_test = np.array(tokenizer.texts_to_sequences(X_test))\n"
     ]
    }
   ],
   "source": [
    "X_train, X_test, y_train, y_test, vocab_size, sentence_len = get_cleaned_data()"
   ]
  },
  {
   "cell_type": "markdown",
   "metadata": {
    "id": "4qfEK7JgB6zl"
   },
   "source": [
    "### Neural Network with SGD optimizer"
   ]
  },
  {
   "cell_type": "code",
   "execution_count": 2,
   "metadata": {
    "colab": {
     "base_uri": "https://localhost:8080/"
    },
    "id": "XVVIVDnmB8yq",
    "outputId": "2711cf75-375a-480f-e6e5-873032419fcf"
   },
   "outputs": [
    {
     "name": "stderr",
     "output_type": "stream",
     "text": [
      "2022-12-09 10:28:27.152264: I tensorflow/compiler/xla/stream_executor/cuda/cuda_gpu_executor.cc:981] successful NUMA node read from SysFS had negative value (-1), but there must be at least one NUMA node, so returning NUMA node zero\n",
      "2022-12-09 10:28:27.152596: W tensorflow/compiler/xla/stream_executor/platform/default/dso_loader.cc:64] Could not load dynamic library 'libcudart.so.11.0'; dlerror: libcudart.so.11.0: cannot open shared object file: No such file or directory\n",
      "2022-12-09 10:28:27.152697: W tensorflow/compiler/xla/stream_executor/platform/default/dso_loader.cc:64] Could not load dynamic library 'libcublas.so.11'; dlerror: libcublas.so.11: cannot open shared object file: No such file or directory\n",
      "2022-12-09 10:28:27.152773: W tensorflow/compiler/xla/stream_executor/platform/default/dso_loader.cc:64] Could not load dynamic library 'libcublasLt.so.11'; dlerror: libcublasLt.so.11: cannot open shared object file: No such file or directory\n",
      "2022-12-09 10:28:27.152847: W tensorflow/compiler/xla/stream_executor/platform/default/dso_loader.cc:64] Could not load dynamic library 'libcufft.so.10'; dlerror: libcufft.so.10: cannot open shared object file: No such file or directory\n",
      "2022-12-09 10:28:27.152921: W tensorflow/compiler/xla/stream_executor/platform/default/dso_loader.cc:64] Could not load dynamic library 'libcurand.so.10'; dlerror: libcurand.so.10: cannot open shared object file: No such file or directory\n",
      "2022-12-09 10:28:27.152993: W tensorflow/compiler/xla/stream_executor/platform/default/dso_loader.cc:64] Could not load dynamic library 'libcusolver.so.11'; dlerror: libcusolver.so.11: cannot open shared object file: No such file or directory\n",
      "2022-12-09 10:28:27.153064: W tensorflow/compiler/xla/stream_executor/platform/default/dso_loader.cc:64] Could not load dynamic library 'libcusparse.so.11'; dlerror: libcusparse.so.11: cannot open shared object file: No such file or directory\n",
      "2022-12-09 10:28:27.153138: W tensorflow/compiler/xla/stream_executor/platform/default/dso_loader.cc:64] Could not load dynamic library 'libcudnn.so.8'; dlerror: libcudnn.so.8: cannot open shared object file: No such file or directory\n",
      "2022-12-09 10:28:27.153147: W tensorflow/core/common_runtime/gpu/gpu_device.cc:1934] Cannot dlopen some GPU libraries. Please make sure the missing libraries mentioned above are installed properly if you would like to use GPU. Follow the guide at https://www.tensorflow.org/install/gpu for how to download and setup the required libraries for your platform.\n",
      "Skipping registering GPU devices...\n",
      "2022-12-09 10:28:27.153698: I tensorflow/core/platform/cpu_feature_guard.cc:193] This TensorFlow binary is optimized with oneAPI Deep Neural Network Library (oneDNN) to use the following CPU instructions in performance-critical operations:  AVX2 FMA\n",
      "To enable them in other operations, rebuild TensorFlow with the appropriate compiler flags.\n"
     ]
    },
    {
     "name": "stdout",
     "output_type": "stream",
     "text": [
      "Model: \"sequential\"\n",
      "_________________________________________________________________\n",
      " Layer (type)                Output Shape              Param #   \n",
      "=================================================================\n",
      " embedding (Embedding)       (None, 200, 32)           320000    \n",
      "                                                                 \n",
      " bidirectional (Bidirectiona  (None, 128)              49664     \n",
      " l)                                                              \n",
      "                                                                 \n",
      " dense (Dense)               (None, 16)                2064      \n",
      "                                                                 \n",
      " dropout (Dropout)           (None, 16)                0         \n",
      "                                                                 \n",
      " dense_1 (Dense)             (None, 1)                 17        \n",
      "                                                                 \n",
      "=================================================================\n",
      "Total params: 371,745\n",
      "Trainable params: 371,745\n",
      "Non-trainable params: 0\n",
      "_________________________________________________________________\n",
      "None\n"
     ]
    },
    {
     "name": "stderr",
     "output_type": "stream",
     "text": [
      "/home/viking/DEV/Cryoto/API/SpamFilter/lib/python3.10/site-packages/keras/optimizers/optimizer_v2/gradient_descent.py:114: UserWarning: The `lr` argument is deprecated, use `learning_rate` instead.\n",
      "  super().__init__(name, **kwargs)\n"
     ]
    }
   ],
   "source": [
    "# model inspired from https://towardsdatascience.com/spam-detection-in-emails-de0398ea3b48\n",
    "from keras.layers import Dense, Input, LSTM, Embedding, Dropout, Activation\n",
    "from keras.layers import Bidirectional\n",
    "from keras.models import Model\n",
    "from keras.optimizers import SGD\n",
    "\n",
    "LR = .01\n",
    "MOMENTUM = .5\n",
    "#size of the output vector from each layer\n",
    "embedding_vector_length = 32\n",
    "\n",
    "lstm = tf.keras.Sequential()\n",
    "\n",
    "lstm.add(Embedding(vocab_size, embedding_vector_length, input_length=sentence_len)) #embedding layer to vectorize\n",
    "lstm.add(Bidirectional(tf.keras.layers.LSTM(64)))\n",
    "lstm.add(Dense(16, activation='relu'))\n",
    "lstm.add(Dropout(0.1)) #prevent overfitting\n",
    "lstm.add(Dense(1, activation='sigmoid')) # normalize output\n",
    "\n",
    "lstm.compile(loss='binary_crossentropy', optimizer= SGD(lr=LR, momentum=MOMENTUM), metrics=['accuracy'] )\n",
    "\n",
    "print(lstm.summary())\n",
    "\n"
   ]
  },
  {
   "cell_type": "code",
   "execution_count": 5,
   "metadata": {
    "colab": {
     "base_uri": "https://localhost:8080/"
    },
    "id": "WEVi27fSSO4X",
    "outputId": "b6c6433a-21db-46d7-8081-44766d721222"
   },
   "outputs": [
    {
     "name": "stdout",
     "output_type": "stream",
     "text": [
      "Epoch 1/17\n",
      "9/9 [==============================] - 15s 2s/step - loss: 0.6662 - accuracy: 0.8671 - val_loss: 0.6383 - val_accuracy: 0.8547\n",
      "Epoch 2/17\n",
      "9/9 [==============================] - 15s 2s/step - loss: 0.6131 - accuracy: 0.8687 - val_loss: 0.5871 - val_accuracy: 0.8547\n",
      "Epoch 3/17\n",
      "9/9 [==============================] - 15s 2s/step - loss: 0.5630 - accuracy: 0.8687 - val_loss: 0.5448 - val_accuracy: 0.8547\n",
      "Epoch 4/17\n",
      "9/9 [==============================] - 17s 2s/step - loss: 0.5219 - accuracy: 0.8687 - val_loss: 0.5114 - val_accuracy: 0.8547\n",
      "Epoch 5/17\n",
      "9/9 [==============================] - 17s 2s/step - loss: 0.4910 - accuracy: 0.8687 - val_loss: 0.4849 - val_accuracy: 0.8547\n",
      "Epoch 6/17\n",
      "9/9 [==============================] - 17s 2s/step - loss: 0.4638 - accuracy: 0.8687 - val_loss: 0.4633 - val_accuracy: 0.8547\n",
      "Epoch 7/17\n",
      "9/9 [==============================] - 17s 2s/step - loss: 0.4425 - accuracy: 0.8687 - val_loss: 0.4474 - val_accuracy: 0.8547\n",
      "Epoch 8/17\n",
      "9/9 [==============================] - 17s 2s/step - loss: 0.4267 - accuracy: 0.8687 - val_loss: 0.4358 - val_accuracy: 0.8547\n",
      "Epoch 9/17\n",
      "9/9 [==============================] - 18s 2s/step - loss: 0.4159 - accuracy: 0.8687 - val_loss: 0.4278 - val_accuracy: 0.8547\n",
      "Epoch 10/17\n",
      "9/9 [==============================] - 18s 2s/step - loss: 0.4099 - accuracy: 0.8687 - val_loss: 0.4224 - val_accuracy: 0.8547\n",
      "Epoch 11/17\n",
      "9/9 [==============================] - 18s 2s/step - loss: 0.4020 - accuracy: 0.8687 - val_loss: 0.4184 - val_accuracy: 0.8547\n",
      "Epoch 12/17\n",
      "9/9 [==============================] - 18s 2s/step - loss: 0.3977 - accuracy: 0.8687 - val_loss: 0.4158 - val_accuracy: 0.8547\n",
      "Epoch 13/17\n",
      "9/9 [==============================] - 18s 2s/step - loss: 0.3956 - accuracy: 0.8687 - val_loss: 0.4141 - val_accuracy: 0.8547\n",
      "Epoch 14/17\n",
      "9/9 [==============================] - 18s 2s/step - loss: 0.3952 - accuracy: 0.8687 - val_loss: 0.4130 - val_accuracy: 0.8547\n",
      "Epoch 15/17\n",
      "9/9 [==============================] - 18s 2s/step - loss: 0.3930 - accuracy: 0.8687 - val_loss: 0.4123 - val_accuracy: 0.8547\n",
      "Epoch 16/17\n",
      "9/9 [==============================] - 18s 2s/step - loss: 0.3915 - accuracy: 0.8687 - val_loss: 0.4118 - val_accuracy: 0.8547\n",
      "Epoch 17/17\n",
      "9/9 [==============================] - 18s 2s/step - loss: 0.3890 - accuracy: 0.8687 - val_loss: 0.4115 - val_accuracy: 0.8547\n"
     ]
    },
    {
     "data": {
      "text/plain": [
       "<keras.callbacks.History at 0x202bbce1c10>"
      ]
     },
     "execution_count": 5,
     "metadata": {},
     "output_type": "execute_result"
    }
   ],
   "source": [
    "BATCH_SIZE = 512\n",
    "EPOCHS = 17\n",
    "\n",
    "lstm.fit(X_train, y_train, batch_size=BATCH_SIZE, epochs=EPOCHS, validation_data=(X_test, y_test))"
   ]
  },
  {
   "cell_type": "code",
   "execution_count": 6,
   "metadata": {
    "colab": {
     "base_uri": "https://localhost:8080/",
     "height": 312
    },
    "id": "-qKa35QQTzti",
    "outputId": "67dce3f2-5246-4592-af1f-cfa3bde4e9d4"
   },
   "outputs": [
    {
     "name": "stdout",
     "output_type": "stream",
     "text": [
      "dict_keys(['loss', 'accuracy', 'val_loss', 'val_accuracy'])\n"
     ]
    },
    {
     "data": {
      "image/png": "[encoded data removed]",
      "text/plain": [
       "<Figure size 432x288 with 1 Axes>"
      ]
     },
     "metadata": {
      "needs_background": "light"
     },
     "output_type": "display_data"
    }
   ],
   "source": [
    "# plot model accuracy\n",
    "print(lstm.history.history.keys())\n",
    "plt.plot(lstm.history.history['accuracy'])\n",
    "plt.plot(lstm.history.history['val_accuracy'])\n",
    "plt.title('model accuracy')\n",
    "plt.ylabel('accuracy')\n",
    "plt.xlabel('epoch')\n",
    "plt.legend(['train', 'test'], loc='upper left')\n",
    "plt.grid()\n",
    "plt.show()"
   ]
  },
  {
   "cell_type": "markdown",
   "metadata": {
    "id": "5DUdikL3Zqwc"
   },
   "source": [
    "### Neural Network with adam optimizer"
   ]
  },
  {
   "cell_type": "code",
   "execution_count": 7,
   "metadata": {
    "colab": {
     "base_uri": "https://localhost:8080/"
    },
    "id": "A8yEvjGqZy6V",
    "outputId": "96e759d8-e43d-47c3-ed68-c52486d5b304"
   },
   "outputs": [
    {
     "name": "stdout",
     "output_type": "stream",
     "text": [
      "Model: \"sequential_1\"\n",
      "_________________________________________________________________\n",
      " Layer (type)                Output Shape              Param #   \n",
      "=================================================================\n",
      " embedding_1 (Embedding)     (None, 200, 32)           320000    \n",
      "                                                                 \n",
      " bidirectional_1 (Bidirectio  (None, 128)              49664     \n",
      " nal)                                                            \n",
      "                                                                 \n",
      " dense_2 (Dense)             (None, 16)                2064      \n",
      "                                                                 \n",
      " dropout_1 (Dropout)         (None, 16)                0         \n",
      "                                                                 \n",
      " dense_3 (Dense)             (None, 1)                 17        \n",
      "                                                                 \n",
      "=================================================================\n",
      "Total params: 371,745\n",
      "Trainable params: 371,745\n",
      "Non-trainable params: 0\n",
      "_________________________________________________________________\n",
      "None\n"
     ]
    }
   ],
   "source": [
    "from keras.layers import Dense, Embedding, Dropout\n",
    "from keras.layers import Bidirectional\n",
    "\n",
    "#size of the output vector from each layer\n",
    "embedding_vector_length = 32\n",
    "\n",
    "lstm = tf.keras.Sequential()\n",
    "\n",
    "lstm.add(Embedding(vocab_size, embedding_vector_length, input_length=sentence_len)) #embedding layer to vectorize\n",
    "lstm.add(Bidirectional(tf.keras.layers.LSTM(64)))\n",
    "lstm.add(Dense(16, activation='relu'))\n",
    "lstm.add(Dropout(0.1)) #prevent overfitting\n",
    "lstm.add(Dense(1, activation='sigmoid')) # normalize output\n",
    "\n",
    "lstm.compile(loss='binary_crossentropy', optimizer= 'adam', metrics=['accuracy'] )\n",
    "\n",
    "print(lstm.summary())"
   ]
  },
  {
   "cell_type": "code",
   "execution_count": null,
   "metadata": {
    "colab": {
     "base_uri": "https://localhost:8080/"
    },
    "id": "elVfAU0-Z5OF",
    "outputId": "92c12d4d-df6c-40f8-ae84-0b0f499dcff8"
   },
   "outputs": [
    {
     "name": "stdout",
     "output_type": "stream",
     "text": [
      "Epoch 1/17\n",
      "9/9 [==============================] - 21s 2s/step - loss: 0.6592 - accuracy: 0.7864 - val_loss: 0.5774 - val_accuracy: 0.8547\n",
      "Epoch 2/17\n",
      "9/9 [==============================] - 21s 2s/step - loss: 0.4477 - accuracy: 0.8687 - val_loss: 0.4503 - val_accuracy: 0.8547\n",
      "Epoch 3/17\n",
      "9/9 [==============================] - 21s 2s/step - loss: 0.3638 - accuracy: 0.8687 - val_loss: 0.3595 - val_accuracy: 0.8547\n",
      "Epoch 4/17\n",
      "9/9 [==============================] - 21s 2s/step - loss: 0.3127 - accuracy: 0.8687 - val_loss: 0.2949 - val_accuracy: 0.8547\n",
      "Epoch 5/17\n",
      "9/9 [==============================] - 22s 2s/step - loss: 0.2233 - accuracy: 0.8772 - val_loss: 0.2224 - val_accuracy: 0.8906\n",
      "Epoch 6/17\n",
      "9/9 [==============================] - 22s 2s/step - loss: 0.1501 - accuracy: 0.9569 - val_loss: 0.1476 - val_accuracy: 0.9614\n",
      "Epoch 7/17\n",
      "9/9 [==============================] - 22s 2s/step - loss: 0.1053 - accuracy: 0.9823 - val_loss: 0.1036 - val_accuracy: 0.9758\n",
      "Epoch 8/17\n",
      "9/9 [==============================] - 22s 2s/step - loss: 0.0613 - accuracy: 0.9886 - val_loss: 0.0574 - val_accuracy: 0.9821\n",
      "Epoch 9/17\n",
      "9/9 [==============================] - 22s 2s/step - loss: 0.0382 - accuracy: 0.9919 - val_loss: 0.0460 - val_accuracy: 0.9839\n",
      "Epoch 10/17\n",
      "9/9 [==============================] - 22s 2s/step - loss: 0.0260 - accuracy: 0.9939 - val_loss: 0.0377 - val_accuracy: 0.9848\n",
      "Epoch 11/17\n",
      "9/9 [==============================] - 22s 2s/step - loss: 0.0217 - accuracy: 0.9939 - val_loss: 0.0352 - val_accuracy: 0.9883\n",
      "Epoch 12/17\n",
      "9/9 [==============================] - 22s 2s/step - loss: 0.0150 - accuracy: 0.9964 - val_loss: 0.0307 - val_accuracy: 0.9874\n",
      "Epoch 13/17\n",
      "9/9 [==============================] - 22s 2s/step - loss: 0.0142 - accuracy: 0.9960 - val_loss: 0.0324 - val_accuracy: 0.9928\n",
      "Epoch 14/17\n",
      "9/9 [==============================] - 22s 2s/step - loss: 0.0118 - accuracy: 0.9969 - val_loss: 0.0289 - val_accuracy: 0.9928\n",
      "Epoch 15/17\n",
      "9/9 [==============================] - 22s 2s/step - loss: 0.0092 - accuracy: 0.9978 - val_loss: 0.0274 - val_accuracy: 0.9928\n",
      "Epoch 16/17\n",
      "9/9 [==============================] - 22s 2s/step - loss: 0.0081 - accuracy: 0.9980 - val_loss: 0.0305 - val_accuracy: 0.9928\n",
      "Epoch 17/17\n",
      "5/9 [===============>..............] - ETA: 9s - loss: 0.0088 - accuracy: 0.9980 "
     ]
    }
   ],
   "source": [
    "BATCH_SIZE = 512\n",
    "EPOCHS = 17\n",
    "\n",
    "lstm.fit(X_train, y_train, batch_size=BATCH_SIZE, epochs=EPOCHS, validation_data=(X_test, y_test))"
   ]
  },
  {
   "cell_type": "code",
   "execution_count": null,
   "metadata": {
    "colab": {
     "base_uri": "https://localhost:8080/"
    },
    "id": "zEjzUH93c2Cc",
    "outputId": "69fbb5a2-10d1-4df2-a2f2-35cd65852c2c"
   },
   "outputs": [],
   "source": [
    "# save model \n",
    "lstm.save('lstmModel.h5')\n",
    "print('Model Saved!')\n",
    " \n",
    "# load model\n",
    "savedModel=load_model('lstmModel.h5')\n",
    "savedModel.summary()"
   ]
  },
  {
   "cell_type": "code",
   "execution_count": null,
   "metadata": {
    "colab": {
     "base_uri": "https://localhost:8080/",
     "height": 312
    },
    "id": "n1q76FDbZ8N1",
    "outputId": "abed4cb7-a345-4a5c-950d-8002eedcd0f5"
   },
   "outputs": [],
   "source": [
    "# plot model accuracy\n",
    "print(lstm.history.history.keys())\n",
    "plt.plot(lstm.history.history['accuracy'])\n",
    "plt.plot(lstm.history.history['val_accuracy'])\n",
    "plt.title('model accuracy')\n",
    "plt.ylabel('accuracy')\n",
    "plt.xlabel('epoch')\n",
    "plt.legend(['train', 'test'], loc='upper left')\n",
    "plt.grid()\n",
    "plt.show()"
   ]
  },
  {
   "cell_type": "code",
   "execution_count": null,
   "metadata": {
    "colab": {
     "base_uri": "https://localhost:8080/"
    },
    "id": "ZeIt5kz2YpG1",
    "outputId": "e5ef9123-b1a1-4340-b953-cdc613cabc8f"
   },
   "outputs": [],
   "source": [
    "# test our model\n",
    "y_pred=lstm.predict(X_test)\n",
    "print(y_pred)\n",
    "y_pred=(y_pred>0.5) # assign true(spam) if > .5\n",
    "print(y_pred)"
   ]
  },
  {
   "cell_type": "code",
   "execution_count": null,
   "metadata": {
    "colab": {
     "base_uri": "https://localhost:8080/",
     "height": 295
    },
    "id": "xCG_3cgmYJVk",
    "outputId": "316714f8-1009-40ce-c868-f9648bf01158"
   },
   "outputs": [],
   "source": [
    "from sklearn.metrics import confusion_matrix,classification_report\n",
    "\n",
    "ax = plt.subplot()\n",
    "sns.heatmap(confusion_matrix(y_test,y_pred), annot=True, ax = ax,cmap='Blues',fmt='')\n",
    "\n",
    "ax.set_title('Confusion Matrix')\n",
    "ax.set_xlabel('Predicted labels')\n",
    "ax.xaxis.set_ticklabels(['Not Spam', 'Spam'])\n",
    "ax.set_ylabel('True labels')\n",
    "ax.yaxis.set_ticklabels(['Not Spam', 'Spam'])"
   ]
  },
  {
   "cell_type": "code",
   "execution_count": null,
   "metadata": {
    "colab": {
     "base_uri": "https://localhost:8080/"
    },
    "id": "J9gWj9KHbZuj",
    "outputId": "14c38945-b776-4666-bc4e-2165bf970f5d"
   },
   "outputs": [],
   "source": [
    "print(classification_report(y_test, y_pred))\n"
   ]
  }
 ],
 "metadata": {
  "colab": {
   "provenance": []
  },
  "kernelspec": {
   "display_name": "Python 3",
   "language": "python",
   "name": "python3"
  },
  "language_info": {
   "codemirror_mode": {
    "name": "ipython",
    "version": 3
   },
   "file_extension": ".py",
   "mimetype": "text/x-python",
   "name": "python",
   "nbconvert_exporter": "python",
   "pygments_lexer": "ipython3",
   "version": "3.8.5"
  }
 },
 "nbformat": 4,
 "nbformat_minor": 1
}
