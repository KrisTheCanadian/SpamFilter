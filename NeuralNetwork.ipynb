{
 "cells": [
  {
   "cell_type": "markdown",
   "metadata": {
    "id": "p1b9IqDY5_Ha"
   },
   "source": [
    "## Data Preproccessing"
   ]
  },
  {
   "cell_type": "code",
   "execution_count": 1,
   "metadata": {
    "id": "Y6XCq8dB2OUI"
   },
   "outputs": [],
   "source": [
    "import matplotlib.pyplot as plt\n",
    "import seaborn as sns\n",
    "import tensorflow as tf\n",
    "from keras.models import load_model"
   ]
  },
  {
   "cell_type": "markdown",
   "metadata": {},
   "source": [
    "### how to run and import preproccessed data"
   ]
  },
  {
   "cell_type": "code",
   "execution_count": 2,
   "metadata": {},
   "outputs": [
    {
     "name": "stdout",
     "output_type": "stream",
     "text": [
      "There are 5846 rows and 3 columns\n",
      "ham     4510\n",
      "spam    1336\n",
      "Name: Category, dtype: int64\n"
     ]
    },
    {
     "data": {
      "image/png": "[encoded data removed]",
      "text/plain": [
       "<Figure size 432x288 with 1 Axes>"
      ]
     },
     "metadata": {
      "needs_background": "light"
     },
     "output_type": "display_data"
    },
    {
     "name": "stdout",
     "output_type": "stream",
     "text": [
      "                                             Message  Label\n",
      "0  go jurong point crazi avail bugi n great world...      0\n",
      "1                              ok lar joke wif u oni      0\n",
      "3                u dun say earli hor u c alreadi say      0\n",
      "4               nah think goe usf live around though      0\n",
      "6      even brother like speak treat like aid patent      0\n",
      "X_train: (4676,)\n"
     ]
    },
    {
     "data": {
      "image/png": "[encoded data removed]",
      "text/plain": [
       "<Figure size 432x288 with 1 Axes>"
      ]
     },
     "metadata": {
      "needs_background": "light"
     },
     "output_type": "display_data"
    }
   ],
   "source": [
    "from utils import get_cleaned_data, generate_model_output\n",
    "X_train, X_test, y_train, y_test, vocab_size, sentence_len = get_cleaned_data()"
   ]
  },
  {
   "cell_type": "markdown",
   "metadata": {
    "id": "4qfEK7JgB6zl"
   },
   "source": [
    "### Neural Network with SGD optimizer"
   ]
  },
  {
   "cell_type": "code",
   "execution_count": 20,
   "metadata": {
    "colab": {
     "base_uri": "https://localhost:8080/"
    },
    "id": "XVVIVDnmB8yq",
    "outputId": "2711cf75-375a-480f-e6e5-873032419fcf"
   },
   "outputs": [
    {
     "name": "stdout",
     "output_type": "stream",
     "text": [
      "Model: \"sequential_3\"\n",
      "_________________________________________________________________\n",
      " Layer (type)                Output Shape              Param #   \n",
      "=================================================================\n",
      " embedding_3 (Embedding)     (None, 200, 32)           320000    \n",
      "                                                                 \n",
      " bidirectional_3 (Bidirectio  (None, 128)              49664     \n",
      " nal)                                                            \n",
      "                                                                 \n",
      " dense_6 (Dense)             (None, 16)                2064      \n",
      "                                                                 \n",
      " dropout_3 (Dropout)         (None, 16)                0         \n",
      "                                                                 \n",
      " dense_7 (Dense)             (None, 1)                 17        \n",
      "                                                                 \n",
      "=================================================================\n",
      "Total params: 371,745\n",
      "Trainable params: 371,745\n",
      "Non-trainable params: 0\n",
      "_________________________________________________________________\n",
      "None\n"
     ]
    },
    {
     "name": "stderr",
     "output_type": "stream",
     "text": [
      "C:\\Users\\cpere\\anaconda3\\lib\\site-packages\\keras\\optimizers\\optimizer_v2\\gradient_descent.py:114: UserWarning: The `lr` argument is deprecated, use `learning_rate` instead.\n",
      "  super().__init__(name, **kwargs)\n"
     ]
    }
   ],
   "source": [
    "# model inspired from https://towardsdatascience.com/spam-detection-in-emails-de0398ea3b48\n",
    "from keras.layers import Dense, Input, LSTM, Embedding, Dropout, Activation\n",
    "from keras.layers import Bidirectional\n",
    "from keras.optimizers import SGD\n",
    "\n",
    "LR = .01\n",
    "MOMENTUM = .05\n",
    "#size of the output vector from each layer\n",
    "embedding_vector_length = 32\n",
    "\n",
    "lstm = tf.keras.Sequential()\n",
    "\n",
    "lstm.add(Embedding(vocab_size, embedding_vector_length, input_length=sentence_len)) #embedding layer to vectorize\n",
    "lstm.add(Bidirectional(tf.keras.layers.LSTM(64)))\n",
    "lstm.add(Dense(16, activation='relu'))\n",
    "lstm.add(Dropout(0.1)) #prevent overfitting\n",
    "lstm.add(Dense(1, activation='sigmoid')) # normalize output\n",
    "\n",
    "lstm.compile(loss='binary_crossentropy', optimizer= SGD(lr=LR, momentum=MOMENTUM), metrics=['accuracy'] )\n",
    "\n",
    "print(lstm.summary())\n",
    "\n"
   ]
  },
  {
   "cell_type": "code",
   "execution_count": 21,
   "metadata": {
    "colab": {
     "base_uri": "https://localhost:8080/"
    },
    "id": "WEVi27fSSO4X",
    "outputId": "b6c6433a-21db-46d7-8081-44766d721222"
   },
   "outputs": [
    {
     "name": "stdout",
     "output_type": "stream",
     "text": [
      "Epoch 1/17\n",
      "15/15 [==============================] - 29s 2s/step - loss: 0.6928 - accuracy: 0.5607 - val_loss: 0.6912 - val_accuracy: 0.7581\n",
      "Epoch 2/17\n",
      "15/15 [==============================] - 30s 2s/step - loss: 0.6924 - accuracy: 0.5531 - val_loss: 0.6919 - val_accuracy: 0.6915\n",
      "Epoch 3/17\n",
      "15/15 [==============================] - 32s 2s/step - loss: 0.6921 - accuracy: 0.6123 - val_loss: 0.6906 - val_accuracy: 0.7786\n",
      "Epoch 4/17\n",
      "15/15 [==============================] - 32s 2s/step - loss: 0.6919 - accuracy: 0.5904 - val_loss: 0.6896 - val_accuracy: 0.7846\n",
      "Epoch 5/17\n",
      "15/15 [==============================] - 32s 2s/step - loss: 0.6915 - accuracy: 0.5428 - val_loss: 0.6885 - val_accuracy: 0.7872\n",
      "Epoch 6/17\n",
      "15/15 [==============================] - 33s 2s/step - loss: 0.6912 - accuracy: 0.5539 - val_loss: 0.6878 - val_accuracy: 0.7846\n",
      "Epoch 7/17\n",
      "15/15 [==============================] - 33s 2s/step - loss: 0.6910 - accuracy: 0.5361 - val_loss: 0.6869 - val_accuracy: 0.7803\n",
      "Epoch 8/17\n",
      "15/15 [==============================] - 33s 2s/step - loss: 0.6908 - accuracy: 0.5250 - val_loss: 0.6873 - val_accuracy: 0.7915\n",
      "Epoch 9/17\n",
      "15/15 [==============================] - 32s 2s/step - loss: 0.6906 - accuracy: 0.5747 - val_loss: 0.6880 - val_accuracy: 0.8162\n",
      "Epoch 10/17\n",
      "15/15 [==============================] - 32s 2s/step - loss: 0.6904 - accuracy: 0.6092 - val_loss: 0.6884 - val_accuracy: 0.8231\n",
      "Epoch 11/17\n",
      "15/15 [==============================] - 32s 2s/step - loss: 0.6902 - accuracy: 0.6770 - val_loss: 0.6877 - val_accuracy: 0.8171\n",
      "Epoch 12/17\n",
      "15/15 [==============================] - 32s 2s/step - loss: 0.6900 - accuracy: 0.6902 - val_loss: 0.6862 - val_accuracy: 0.8051\n",
      "Epoch 13/17\n",
      "15/15 [==============================] - 32s 2s/step - loss: 0.6896 - accuracy: 0.6063 - val_loss: 0.6848 - val_accuracy: 0.7897\n",
      "Epoch 14/17\n",
      "15/15 [==============================] - 32s 2s/step - loss: 0.6895 - accuracy: 0.5390 - val_loss: 0.6846 - val_accuracy: 0.7932\n",
      "Epoch 15/17\n",
      "15/15 [==============================] - 33s 2s/step - loss: 0.6892 - accuracy: 0.5714 - val_loss: 0.6832 - val_accuracy: 0.7821\n",
      "Epoch 16/17\n",
      "15/15 [==============================] - 33s 2s/step - loss: 0.6888 - accuracy: 0.5460 - val_loss: 0.6829 - val_accuracy: 0.7855\n",
      "Epoch 17/17\n",
      "15/15 [==============================] - 32s 2s/step - loss: 0.6886 - accuracy: 0.5454 - val_loss: 0.6830 - val_accuracy: 0.7966\n"
     ]
    },
    {
     "data": {
      "text/plain": [
       "<keras.callbacks.History at 0x1cd0b86e490>"
      ]
     },
     "execution_count": 21,
     "metadata": {},
     "output_type": "execute_result"
    }
   ],
   "source": [
    "BATCH_SIZE = 512\n",
    "EPOCHS = 17\n",
    "\n",
    "lstm.fit(X_train, y_train, batch_size=BATCH_SIZE, epochs=EPOCHS, validation_data=(X_test, y_test))"
   ]
  },
  {
   "cell_type": "code",
   "execution_count": 22,
   "metadata": {
    "colab": {
     "base_uri": "https://localhost:8080/",
     "height": 312
    },
    "id": "-qKa35QQTzti",
    "outputId": "67dce3f2-5246-4592-af1f-cfa3bde4e9d4"
   },
   "outputs": [
    {
     "name": "stdout",
     "output_type": "stream",
     "text": [
      "dict_keys(['loss', 'accuracy', 'val_loss', 'val_accuracy'])\n"
     ]
    },
    {
     "data": {
      "image/png": "[encoded data removed]",
      "text/plain": [
       "<Figure size 432x288 with 1 Axes>"
      ]
     },
     "metadata": {
      "needs_background": "light"
     },
     "output_type": "display_data"
    }
   ],
   "source": [
    "# plot model accuracy\n",
    "print(lstm.history.history.keys())\n",
    "plt.plot(lstm.history.history['accuracy'])\n",
    "plt.plot(lstm.history.history['val_accuracy'])\n",
    "plt.title('model accuracy')\n",
    "plt.ylabel('accuracy')\n",
    "plt.xlabel('epoch')\n",
    "plt.legend(['train', 'test'], loc='upper left')\n",
    "plt.grid()\n",
    "plt.show()"
   ]
  },
  {
   "cell_type": "code",
   "execution_count": 23,
   "metadata": {},
   "outputs": [
    {
     "name": "stdout",
     "output_type": "stream",
     "text": [
      "37/37 [==============================] - 2s 39ms/step\n"
     ]
    }
   ],
   "source": [
    "# test our model\n",
    "y_pred=lstm.predict(X_test)\n",
    "y_pred=(y_pred>0.5) # assign true(spam) if > .5"
   ]
  },
  {
   "cell_type": "code",
   "execution_count": 24,
   "metadata": {},
   "outputs": [
    {
     "name": "stdout",
     "output_type": "stream",
     "text": [
      "Classification Report\n",
      "               precision    recall  f1-score   support\n",
      "\n",
      "           0       0.80      0.99      0.88       911\n",
      "           1       0.72      0.13      0.22       259\n",
      "\n",
      "    accuracy                           0.80      1170\n",
      "   macro avg       0.76      0.56      0.55      1170\n",
      "weighted avg       0.78      0.80      0.74      1170\n",
      " \n",
      "\n",
      "Accuracy Score: 0.7965811965811965\n"
     ]
    },
    {
     "data": {
      "image/png": "[encoded data removed]",
      "text/plain": [
       "<Figure size 432x288 with 2 Axes>"
      ]
     },
     "metadata": {
      "needs_background": "light"
     },
     "output_type": "display_data"
    }
   ],
   "source": [
    "generate_model_output(y_test,y_pred)"
   ]
  },
  {
   "cell_type": "markdown",
   "metadata": {
    "id": "5DUdikL3Zqwc"
   },
   "source": [
    "### Neural Network with adam optimizer"
   ]
  },
  {
   "cell_type": "code",
   "execution_count": 14,
   "metadata": {
    "colab": {
     "base_uri": "https://localhost:8080/"
    },
    "id": "A8yEvjGqZy6V",
    "outputId": "96e759d8-e43d-47c3-ed68-c52486d5b304"
   },
   "outputs": [
    {
     "name": "stdout",
     "output_type": "stream",
     "text": [
      "Model: \"sequential_2\"\n",
      "_________________________________________________________________\n",
      " Layer (type)                Output Shape              Param #   \n",
      "=================================================================\n",
      " embedding_2 (Embedding)     (None, 200, 32)           320000    \n",
      "                                                                 \n",
      " bidirectional_2 (Bidirectio  (None, 128)              49664     \n",
      " nal)                                                            \n",
      "                                                                 \n",
      " dense_4 (Dense)             (None, 16)                2064      \n",
      "                                                                 \n",
      " dropout_2 (Dropout)         (None, 16)                0         \n",
      "                                                                 \n",
      " dense_5 (Dense)             (None, 1)                 17        \n",
      "                                                                 \n",
      "=================================================================\n",
      "Total params: 371,745\n",
      "Trainable params: 371,745\n",
      "Non-trainable params: 0\n",
      "_________________________________________________________________\n",
      "None\n"
     ]
    }
   ],
   "source": [
    "from keras.layers import Dense, Embedding, Dropout\n",
    "from keras.layers import Bidirectional\n",
    "\n",
    "#size of the output vector from each layer\n",
    "embedding_vector_length = 32\n",
    "\n",
    "lstm = tf.keras.Sequential()\n",
    "\n",
    "lstm.add(Embedding(vocab_size, embedding_vector_length, input_length=sentence_len)) #embedding layer to vectorize\n",
    "lstm.add(Bidirectional(tf.keras.layers.LSTM(64)))\n",
    "lstm.add(Dense(16, activation='relu'))\n",
    "lstm.add(Dropout(0.1)) #prevent overfitting\n",
    "lstm.add(Dense(1, activation='sigmoid')) # normalize output\n",
    "\n",
    "lstm.compile(loss='binary_crossentropy', optimizer= 'adam', metrics=['accuracy'] )\n",
    "\n",
    "print(lstm.summary())"
   ]
  },
  {
   "cell_type": "code",
   "execution_count": 15,
   "metadata": {
    "colab": {
     "base_uri": "https://localhost:8080/"
    },
    "id": "elVfAU0-Z5OF",
    "outputId": "92c12d4d-df6c-40f8-ae84-0b0f499dcff8"
   },
   "outputs": [
    {
     "name": "stdout",
     "output_type": "stream",
     "text": [
      "Epoch 1/26\n",
      "15/15 [==============================] - 33s 2s/step - loss: 0.6762 - accuracy: 0.7380 - val_loss: 0.5647 - val_accuracy: 0.8803\n",
      "Epoch 2/26\n",
      "15/15 [==============================] - 26s 2s/step - loss: 0.5086 - accuracy: 0.8145 - val_loss: 0.2526 - val_accuracy: 0.9197\n",
      "Epoch 3/26\n",
      "15/15 [==============================] - 28s 2s/step - loss: 0.3037 - accuracy: 0.8844 - val_loss: 0.2277 - val_accuracy: 0.9137\n",
      "Epoch 4/26\n",
      "15/15 [==============================] - 28s 2s/step - loss: 0.2155 - accuracy: 0.9278 - val_loss: 0.1397 - val_accuracy: 0.9573\n",
      "Epoch 5/26\n",
      "15/15 [==============================] - 28s 2s/step - loss: 0.1432 - accuracy: 0.9542 - val_loss: 0.0900 - val_accuracy: 0.9709\n",
      "Epoch 6/26\n",
      "15/15 [==============================] - 29s 2s/step - loss: 0.0990 - accuracy: 0.9686 - val_loss: 0.0503 - val_accuracy: 0.9863\n",
      "Epoch 7/26\n",
      "15/15 [==============================] - 28s 2s/step - loss: 0.0902 - accuracy: 0.9705 - val_loss: 0.1652 - val_accuracy: 0.9513\n",
      "Epoch 8/26\n",
      "15/15 [==============================] - 28s 2s/step - loss: 0.0677 - accuracy: 0.9792 - val_loss: 0.0942 - val_accuracy: 0.9701\n",
      "Epoch 9/26\n",
      "15/15 [==============================] - 29s 2s/step - loss: 0.0522 - accuracy: 0.9849 - val_loss: 0.0838 - val_accuracy: 0.9778\n",
      "Epoch 10/26\n",
      "15/15 [==============================] - 29s 2s/step - loss: 0.0386 - accuracy: 0.9901 - val_loss: 0.1047 - val_accuracy: 0.9726\n",
      "Epoch 11/26\n",
      "15/15 [==============================] - 29s 2s/step - loss: 0.0315 - accuracy: 0.9922 - val_loss: 0.0903 - val_accuracy: 0.9761\n",
      "Epoch 12/26\n",
      "15/15 [==============================] - 29s 2s/step - loss: 0.0298 - accuracy: 0.9915 - val_loss: 0.0936 - val_accuracy: 0.9786\n",
      "Epoch 13/26\n",
      "15/15 [==============================] - 29s 2s/step - loss: 0.0243 - accuracy: 0.9936 - val_loss: 0.1042 - val_accuracy: 0.9769\n",
      "Epoch 14/26\n",
      "15/15 [==============================] - 29s 2s/step - loss: 0.0223 - accuracy: 0.9940 - val_loss: 0.1052 - val_accuracy: 0.9769\n",
      "Epoch 15/26\n",
      "15/15 [==============================] - 29s 2s/step - loss: 0.0201 - accuracy: 0.9947 - val_loss: 0.0592 - val_accuracy: 0.9872\n",
      "Epoch 16/26\n",
      "15/15 [==============================] - 29s 2s/step - loss: 0.0358 - accuracy: 0.9912 - val_loss: 0.0644 - val_accuracy: 0.9821\n",
      "Epoch 17/26\n",
      "15/15 [==============================] - 29s 2s/step - loss: 0.0242 - accuracy: 0.9946 - val_loss: 0.0814 - val_accuracy: 0.9803\n",
      "Epoch 18/26\n",
      "15/15 [==============================] - 32s 2s/step - loss: 0.0197 - accuracy: 0.9946 - val_loss: 0.0994 - val_accuracy: 0.9761\n",
      "Epoch 19/26\n",
      "15/15 [==============================] - 29s 2s/step - loss: 0.0161 - accuracy: 0.9960 - val_loss: 0.1034 - val_accuracy: 0.9744\n",
      "Epoch 20/26\n",
      "15/15 [==============================] - 29s 2s/step - loss: 0.0124 - accuracy: 0.9971 - val_loss: 0.1189 - val_accuracy: 0.9709\n",
      "Epoch 21/26\n",
      "15/15 [==============================] - 30s 2s/step - loss: 0.0110 - accuracy: 0.9974 - val_loss: 0.1022 - val_accuracy: 0.9795\n",
      "Epoch 22/26\n",
      "15/15 [==============================] - 29s 2s/step - loss: 0.0094 - accuracy: 0.9978 - val_loss: 0.1196 - val_accuracy: 0.9761\n",
      "Epoch 23/26\n",
      "15/15 [==============================] - 29s 2s/step - loss: 0.0084 - accuracy: 0.9979 - val_loss: 0.1280 - val_accuracy: 0.9752\n",
      "Epoch 24/26\n",
      "15/15 [==============================] - 29s 2s/step - loss: 0.0071 - accuracy: 0.9982 - val_loss: 0.1457 - val_accuracy: 0.9718\n",
      "Epoch 25/26\n",
      "15/15 [==============================] - 29s 2s/step - loss: 0.0063 - accuracy: 0.9986 - val_loss: 0.1373 - val_accuracy: 0.9744\n",
      "Epoch 26/26\n",
      "15/15 [==============================] - 29s 2s/step - loss: 0.0057 - accuracy: 0.9990 - val_loss: 0.1307 - val_accuracy: 0.9761\n"
     ]
    },
    {
     "data": {
      "text/plain": [
       "<keras.callbacks.History at 0x1cd0a70be80>"
      ]
     },
     "execution_count": 15,
     "metadata": {},
     "output_type": "execute_result"
    }
   ],
   "source": [
    "BATCH_SIZE = 512\n",
    "EPOCHS = 26\n",
    "\n",
    "lstm.fit(X_train, y_train, batch_size=BATCH_SIZE, epochs=EPOCHS, validation_data=(X_test, y_test))"
   ]
  },
  {
   "cell_type": "code",
   "execution_count": 16,
   "metadata": {
    "colab": {
     "base_uri": "https://localhost:8080/"
    },
    "id": "zEjzUH93c2Cc",
    "outputId": "69fbb5a2-10d1-4df2-a2f2-35cd65852c2c"
   },
   "outputs": [
    {
     "name": "stdout",
     "output_type": "stream",
     "text": [
      "Model Saved!\n",
      "Model: \"sequential_2\"\n",
      "_________________________________________________________________\n",
      " Layer (type)                Output Shape              Param #   \n",
      "=================================================================\n",
      " embedding_2 (Embedding)     (None, 200, 32)           320000    \n",
      "                                                                 \n",
      " bidirectional_2 (Bidirectio  (None, 128)              49664     \n",
      " nal)                                                            \n",
      "                                                                 \n",
      " dense_4 (Dense)             (None, 16)                2064      \n",
      "                                                                 \n",
      " dropout_2 (Dropout)         (None, 16)                0         \n",
      "                                                                 \n",
      " dense_5 (Dense)             (None, 1)                 17        \n",
      "                                                                 \n",
      "=================================================================\n",
      "Total params: 371,745\n",
      "Trainable params: 371,745\n",
      "Non-trainable params: 0\n",
      "_________________________________________________________________\n"
     ]
    }
   ],
   "source": [
    "# save model \n",
    "lstm.save('lstmModel.h5')\n",
    "print('Model Saved!')\n",
    " \n",
    "# load model\n",
    "savedModel=load_model('lstmModel.h5')\n",
    "savedModel.summary()"
   ]
  },
  {
   "cell_type": "code",
   "execution_count": 17,
   "metadata": {
    "colab": {
     "base_uri": "https://localhost:8080/",
     "height": 312
    },
    "id": "n1q76FDbZ8N1",
    "outputId": "abed4cb7-a345-4a5c-950d-8002eedcd0f5"
   },
   "outputs": [
    {
     "name": "stdout",
     "output_type": "stream",
     "text": [
      "dict_keys(['loss', 'accuracy', 'val_loss', 'val_accuracy'])\n"
     ]
    },
    {
     "data": {
      "image/png": "[encoded data removed]",
      "text/plain": [
       "<Figure size 432x288 with 1 Axes>"
      ]
     },
     "metadata": {
      "needs_background": "light"
     },
     "output_type": "display_data"
    }
   ],
   "source": [
    "# plot model accuracy\n",
    "print(lstm.history.history.keys())\n",
    "plt.plot(lstm.history.history['accuracy'])\n",
    "plt.plot(lstm.history.history['val_accuracy'])\n",
    "plt.title('model accuracy')\n",
    "plt.ylabel('accuracy')\n",
    "plt.xlabel('epoch')\n",
    "plt.legend(['train', 'test'], loc='upper left')\n",
    "plt.grid()\n",
    "plt.show()"
   ]
  },
  {
   "cell_type": "code",
   "execution_count": 18,
   "metadata": {
    "colab": {
     "base_uri": "https://localhost:8080/"
    },
    "id": "ZeIt5kz2YpG1",
    "outputId": "e5ef9123-b1a1-4340-b953-cdc613cabc8f"
   },
   "outputs": [
    {
     "name": "stdout",
     "output_type": "stream",
     "text": [
      "37/37 [==============================] - 2s 30ms/step\n"
     ]
    }
   ],
   "source": [
    "# test our model\n",
    "y_pred=lstm.predict(X_test)\n",
    "y_pred=(y_pred>0.5) # assign true(spam) if > .5"
   ]
  },
  {
   "cell_type": "code",
   "execution_count": 19,
   "metadata": {
    "colab": {
     "base_uri": "https://localhost:8080/",
     "height": 295
    },
    "id": "xCG_3cgmYJVk",
    "outputId": "316714f8-1009-40ce-c868-f9648bf01158"
   },
   "outputs": [
    {
     "name": "stdout",
     "output_type": "stream",
     "text": [
      "Classification Report\n",
      "               precision    recall  f1-score   support\n",
      "\n",
      "           0       1.00      0.97      0.98       911\n",
      "           1       0.91      1.00      0.95       259\n",
      "\n",
      "    accuracy                           0.98      1170\n",
      "   macro avg       0.95      0.98      0.97      1170\n",
      "weighted avg       0.98      0.98      0.98      1170\n",
      " \n",
      "\n",
      "Accuracy Score: 0.976068376068376\n"
     ]
    },
    {
     "data": {
      "image/png": "[encoded data removed]",
      "text/plain": [
       "<Figure size 432x288 with 2 Axes>"
      ]
     },
     "metadata": {
      "needs_background": "light"
     },
     "output_type": "display_data"
    }
   ],
   "source": [
    "generate_model_output(y_test,y_pred)"
   ]
  },
  {
   "cell_type": "code",
   "execution_count": null,
   "metadata": {},
   "outputs": [],
   "source": []
  }
 ],
 "metadata": {
  "colab": {
   "provenance": []
  },
  "kernelspec": {
   "display_name": "Python 3",
   "language": "python",
   "name": "python3"
  },
  "language_info": {
   "codemirror_mode": {
    "name": "ipython",
    "version": 3
   },
   "file_extension": ".py",
   "mimetype": "text/x-python",
   "name": "python",
   "nbconvert_exporter": "python",
   "pygments_lexer": "ipython3",
   "version": "3.9.10 (main, Jan 15 2022, 11:40:53) \n[Clang 13.0.0 (clang-1300.0.29.3)]"
  },
  "vscode": {
   "interpreter": {
    "hash": "949777d72b0d2535278d3dc13498b2535136f6dfe0678499012e853ee9abcab1"
   }
  }
 },
 "nbformat": 4,
 "nbformat_minor": 1
}
