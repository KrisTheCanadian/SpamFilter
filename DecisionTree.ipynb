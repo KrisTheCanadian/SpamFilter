{
 "cells": [
  {
   "cell_type": "code",
   "execution_count": 1,
   "metadata": {
    "collapsed": true
   },
   "outputs": [],
   "source": [
    "# Read data\n",
    "\n",
    "import pandas as pd\n",
    "\n",
    "data = pd.read_csv('spam.csv', delimiter=',', encoding='latin-1')\n",
    "\n",
    "data.head(n=10)\n",
    "\n",
    "X = data['Text'].values\n",
    "Y = data['Label'].values\n"
   ]
  },
  {
   "cell_type": "code",
   "execution_count": 2,
   "outputs": [],
   "source": [
    "# Split data into training and testing\n",
    "\n",
    "from sklearn.model_selection import train_test_split\n",
    "\n",
    "X_train, X_test, Y_train, Y_test = train_test_split(X, Y, test_size=0.2, random_state=0)\n"
   ],
   "metadata": {
    "collapsed": false
   }
  },
  {
   "cell_type": "code",
   "execution_count": 3,
   "outputs": [],
   "source": [
    "# Transform data to feature vectors while removing stop words & words that appear only once\n",
    "\n",
    "from sklearn.feature_extraction.text import TfidfVectorizer\n",
    "\n",
    "features = TfidfVectorizer(min_df=1, stop_words='english')\n",
    "X_train = features.fit_transform(X_train)\n",
    "X_test = features.transform(X_test)\n"
   ],
   "metadata": {
    "collapsed": false
   }
  },
  {
   "cell_type": "code",
   "execution_count": 4,
   "outputs": [],
   "source": [
    "# Train the model using Decision Tree Classifier\n",
    "\n",
    "from sklearn.model_selection import RandomizedSearchCV\n",
    "from sklearn import tree\n",
    "from scipy.stats import randint\n",
    "\n",
    "model = tree.DecisionTreeClassifier()\n",
    "\n",
    "param_dist = {\"max_depth\": [3, None],\n",
    "              \"min_samples_leaf\": randint(1, 9),\n",
    "                \"criterion\": [\"gini\", \"entropy\"]}\n",
    "tree_cv = RandomizedSearchCV(model, param_dist, cv=5)\n",
    "tree_cv.fit(X_train, Y_train)\n",
    "y_pred = tree_cv.predict(X_test)"
   ],
   "metadata": {
    "collapsed": false
   }
  },
  {
   "cell_type": "code",
   "execution_count": 5,
   "outputs": [
    {
     "name": "stdout",
     "output_type": "stream",
     "text": [
      "Accuracy:  96.32286995515696\n",
      "              precision    recall  f1-score   support\n",
      "\n",
      "         ham       0.98      0.98      0.98       949\n",
      "        spam       0.89      0.86      0.87       166\n",
      "\n",
      "    accuracy                           0.96      1115\n",
      "   macro avg       0.93      0.92      0.93      1115\n",
      "weighted avg       0.96      0.96      0.96      1115\n",
      "\n"
     ]
    }
   ],
   "source": [
    "# Evaluate accuracy of model\n",
    "\n",
    "from matplotlib import pyplot as plt\n",
    "from sklearn.metrics import classification_report, confusion_matrix\n",
    "import seaborn as sns\n",
    "from sklearn import metrics\n",
    "\n",
    "print(\"Accuracy: \", metrics.accuracy_score(Y_test,y_pred)*100)\n",
    "print(classification_report(Y_test, y_pred))"
   ],
   "metadata": {
    "collapsed": false
   }
  },
  {
   "cell_type": "code",
   "execution_count": 6,
   "outputs": [
    {
     "data": {
      "text/plain": "<Figure size 640x480 with 2 Axes>",
      "image/png": "[encoded data removed]"
     },
     "metadata": {},
     "output_type": "display_data"
    }
   ],
   "source": [
    "# Plot Confusion Matrix\n",
    "\n",
    "ax = plt.subplot()\n",
    "sns.heatmap(confusion_matrix(Y_test,y_pred), annot=True, ax = ax,cmap='Blues',fmt='');\n",
    "\n",
    "ax.set_title('Confusion Matrix');\n",
    "ax.set_xlabel('Predicted labels');\n",
    "ax.xaxis.set_ticklabels(['Not Spam', 'Spam']);\n",
    "ax.set_ylabel('True labels');\n",
    "ax.yaxis.set_ticklabels(['Not Spam', 'Spam']);"
   ],
   "metadata": {
    "collapsed": false
   }
  },
  {
   "cell_type": "code",
   "execution_count": 7,
   "outputs": [
    {
     "name": "stdout",
     "output_type": "stream",
     "text": [
      "['ham' 'ham']\n"
     ]
    }
   ],
   "source": [
    "# Test our model with new data\n",
    "\n",
    "new_data = [\"Congrats!, you've just won 1,000$ Amazon Gift Card please click on the link here: http://bit.ly/123456\", \"Hey, i'm going to bed!!\"]\n",
    "new_data = features.transform(new_data)\n",
    "new_data_pred = tree_cv.predict(new_data)\n",
    "print(new_data_pred)"
   ],
   "metadata": {
    "collapsed": false
   }
  }
 ],
 "metadata": {
  "kernelspec": {
   "display_name": "Python 3",
   "language": "python",
   "name": "python3"
  },
  "language_info": {
   "codemirror_mode": {
    "name": "ipython",
    "version": 2
   },
   "file_extension": ".py",
   "mimetype": "text/x-python",
   "name": "python",
   "nbconvert_exporter": "python",
   "pygments_lexer": "ipython2",
   "version": "2.7.6"
  }
 },
 "nbformat": 4,
 "nbformat_minor": 0
}
