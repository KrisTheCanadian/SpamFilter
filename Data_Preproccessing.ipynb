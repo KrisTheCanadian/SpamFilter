{
 "cells": [
  {
   "cell_type": "markdown",
   "metadata": {
    "id": "p1b9IqDY5_Ha"
   },
   "source": [
    "## Data Preproccessing"
   ]
  },
  {
   "cell_type": "code",
   "execution_count": 1,
   "metadata": {
    "colab": {
     "base_uri": "https://localhost:8080/"
    },
    "id": "4pQWdkM32OUF",
    "outputId": "86dff62b-cb64-42e3-8fd8-903d39846220"
   },
   "outputs": [
    {
     "name": "stdout",
     "output_type": "stream",
     "text": [
      "Requirement already satisfied: nltk in c:\\users\\cpere\\anaconda3\\lib\\site-packages (3.5)\n",
      "Requirement already satisfied: tqdm in c:\\users\\cpere\\anaconda3\\lib\\site-packages (from nltk) (4.50.2)\n",
      "Requirement already satisfied: regex in c:\\users\\cpere\\anaconda3\\lib\\site-packages (from nltk) (2020.10.15)\n",
      "Requirement already satisfied: joblib in c:\\users\\cpere\\anaconda3\\lib\\site-packages (from nltk) (1.2.0)\n",
      "Requirement already satisfied: click in c:\\users\\cpere\\anaconda3\\lib\\site-packages (from nltk) (7.1.2)\n"
     ]
    },
    {
     "name": "stderr",
     "output_type": "stream",
     "text": [
      "C:\\Users\\cpere\\anaconda3\\lib\\runpy.py:127: RuntimeWarning: 'nltk.downloader' found in sys.modules after import of package 'nltk', but prior to execution of 'nltk.downloader'; this may result in unpredictable behaviour\n",
      "  warn(RuntimeWarning(msg))\n",
      "[nltk_data] Downloading package stopwords to\n",
      "[nltk_data]     C:\\Users\\cpere\\AppData\\Roaming\\nltk_data...\n",
      "[nltk_data]   Package stopwords is already up-to-date!\n"
     ]
    },
    {
     "name": "stdout",
     "output_type": "stream",
     "text": [
      "Requirement already satisfied: imblearn in c:\\users\\cpere\\anaconda3\\lib\\site-packages (0.0)\n",
      "Requirement already satisfied: imbalanced-learn in c:\\users\\cpere\\anaconda3\\lib\\site-packages (from imblearn) (0.9.1)\n",
      "Requirement already satisfied: numpy>=1.17.3 in c:\\users\\cpere\\anaconda3\\lib\\site-packages (from imbalanced-learn->imblearn) (1.23.5)\n",
      "Requirement already satisfied: threadpoolctl>=2.0.0 in c:\\users\\cpere\\anaconda3\\lib\\site-packages (from imbalanced-learn->imblearn) (2.1.0)\n",
      "Requirement already satisfied: scipy>=1.3.2 in c:\\users\\cpere\\anaconda3\\lib\\site-packages (from imbalanced-learn->imblearn) (1.5.2)\n",
      "Requirement already satisfied: joblib>=1.0.0 in c:\\users\\cpere\\anaconda3\\lib\\site-packages (from imbalanced-learn->imblearn) (1.2.0)\n",
      "Requirement already satisfied: scikit-learn>=1.1.0 in c:\\users\\cpere\\anaconda3\\lib\\site-packages (from imbalanced-learn->imblearn) (1.2.0)\n"
     ]
    }
   ],
   "source": [
    "# !pip install -r requirements.txt\n",
    "!pip install nltk \n",
    "!python -m nltk.downloader stopwords\n",
    "!pip3 install imblearn"
   ]
  },
  {
   "cell_type": "code",
   "execution_count": 2,
   "metadata": {
    "id": "Y6XCq8dB2OUI"
   },
   "outputs": [],
   "source": [
    "import pandas as pd\n",
    "import numpy as np\n",
    "import matplotlib.pyplot as plt\n",
    "import seaborn as sns\n",
    "from sklearn.model_selection import train_test_split\n",
    "import re\n",
    "import nltk\n",
    "from nltk.corpus import stopwords\n",
    "from nltk.stem import PorterStemmer\n",
    "import tensorflow as tf\n",
    "from keras.preprocessing.text import Tokenizer\n",
    "from keras.utils import pad_sequences\n",
    "from imblearn.over_sampling import SMOTE"
   ]
  },
  {
   "cell_type": "code",
   "execution_count": 3,
   "metadata": {
    "id": "dtPdoMxM2OUI"
   },
   "outputs": [],
   "source": [
    "def get_cleaned_data():\n",
    "  df = pd.read_csv('spam.csv', delimiter=',')\n",
    "\n",
    "  df.drop(df.columns.difference(['v1','v2']), 1, inplace=True)\n",
    "\n",
    "  nRow, nCol = df.shape\n",
    "  print(f'There are {nRow} rows and {nCol} columns')\n",
    "\n",
    "  df = df.rename({\n",
    "      \"v1\":\"Category\",\n",
    "      \"v2\":\"Message\"\n",
    "  }, axis=1)\n",
    "\n",
    "  df[\"Label\"] = df[\"Category\"].map({\n",
    "      \"ham\": 0,\n",
    "      \"spam\": 1,\n",
    "  })\n",
    "\n",
    "  print(df.head(10))\n",
    "  # check for null values \n",
    "  print(df.isnull().sum())\n",
    "\n",
    "  # delete them\n",
    "  df = df.dropna()\n",
    "  print(f'There are {df.shape[0]} rows and {df.shape[1]} columns')\n",
    "\n",
    "  # print value count\n",
    "  print(df[\"Category\"].value_counts())\n",
    "\n",
    "  #plot data points, we can see its very imbalanced\n",
    "  sns.countplot(data=df, x=\"Category\")\n",
    "  plt.title(\"ham vs spam\")\n",
    "  plt.show()\n",
    "\n",
    "  # preproccessing\n",
    "  ps = PorterStemmer()\n",
    "\n",
    "  def clean_data():\n",
    "\n",
    "      corpus=[]\n",
    "\n",
    "      for msg in df[\"Message\"]:\n",
    "      \n",
    "          #replace everything thats not a letter with white space\n",
    "          msg = re.sub(\"[^a-zA-Z]\",\" \", msg)\n",
    "\n",
    "          # replace new line with whitespace\n",
    "          msg = msg.replace('\\n','')\n",
    "          \n",
    "          #convert to lowercase\n",
    "          msg = msg.lower()\n",
    "          \n",
    "          #split the word into individual word list\n",
    "          msg = msg.split()\n",
    "\n",
    "          #perform stemming using PorterStemmer for all non-english-stopwords\n",
    "          msg = [ps.stem(words)\n",
    "                  for words in msg\n",
    "                  if words not in set(stopwords.words(\"english\"))\n",
    "                  ]\n",
    "          #join the word lists with the whitespace\n",
    "          msg = \" \".join(msg)\n",
    "\n",
    "          corpus.append(msg)\n",
    "      return corpus \n",
    "\n",
    "\n",
    "  data = {'Message': clean_data(), 'Label': df.Label}\n",
    "  df_new = pd.DataFrame(data=data)\n",
    "\n",
    "\n",
    "  # new df head\n",
    "  print(df_new.head()) \n",
    "\n",
    "  # split our data from training & testing\n",
    "  X_train, X_test, y_train, y_test = train_test_split(df_new.Message, df_new.Label, test_size=0.2, random_state=0)\n",
    "\n",
    "#   sm = SMOTE()\n",
    "#   X_train, y_train = sm.fit_resample(X_train.values.ravel(), y_train)\n",
    "#   # print value count\n",
    "#   print(df[X_train].value_counts())\n",
    "\n",
    "  # tokenize our data\n",
    "  vocab_size = 10000 # only consider this many words\n",
    "\n",
    "  tokenizer = Tokenizer(num_words= vocab_size)\n",
    "  tokenizer.fit_on_texts(X_train)\n",
    "  X_train = np.array(tokenizer.texts_to_sequences(X_train))\n",
    "  X_test = np.array(tokenizer.texts_to_sequences(X_test))\n",
    "\n",
    "\n",
    "  # add padding to make tokens equal size\n",
    "  sentence_len=200\n",
    "\n",
    "  X_train = pad_sequences(X_train,maxlen=sentence_len)\n",
    "  X_test = pad_sequences(X_test,maxlen=sentence_len)\n",
    "\n",
    "\n",
    "  return X_train, X_test, y_train, y_test, vocab_size, sentence_len\n",
    "    "
   ]
  },
  {
   "cell_type": "code",
   "execution_count": 4,
   "metadata": {},
   "outputs": [
    {
     "name": "stdout",
     "output_type": "stream",
     "text": [
      "There are 5572 rows and 2 columns\n",
      "  Category                                            Message  Label\n",
      "0      ham  Go until jurong point, crazy.. Available only ...      0\n",
      "1      ham                      Ok lar... Joking wif u oni...      0\n",
      "2     spam  Free entry in 2 a wkly comp to win FA Cup fina...      1\n",
      "3      ham  U dun say so early hor... U c already then say...      0\n",
      "4      ham  Nah I don't think he goes to usf, he lives aro...      0\n",
      "5     spam  FreeMsg Hey there darling it's been 3 week's n...      1\n",
      "6      ham  Even my brother is not like to speak with me. ...      0\n",
      "7      ham  As per your request 'Melle Melle (Oru Minnamin...      0\n",
      "8     spam  WINNER!! As a valued network customer you have...      1\n",
      "9     spam  Had your mobile 11 months or more? U R entitle...      1\n",
      "Category    0\n",
      "Message     1\n",
      "Label       0\n",
      "dtype: int64\n",
      "There are 5571 rows and 3 columns\n",
      "ham     4824\n",
      "spam     747\n",
      "Name: Category, dtype: int64\n"
     ]
    },
    {
     "data": {
      "image/png": "[encoded data removed]",
      "text/plain": [
       "<Figure size 432x288 with 1 Axes>"
      ]
     },
     "metadata": {
      "needs_background": "light"
     },
     "output_type": "display_data"
    },
    {
     "name": "stdout",
     "output_type": "stream",
     "text": [
      "                                             Message  Label\n",
      "0  go jurong point crazi avail bugi n great world...      0\n",
      "1                              ok lar joke wif u oni      0\n",
      "2  free entri wkli comp win fa cup final tkt st m...      1\n",
      "3                u dun say earli hor u c alreadi say      0\n",
      "4               nah think goe usf live around though      0\n"
     ]
    },
    {
     "name": "stderr",
     "output_type": "stream",
     "text": [
      "<ipython-input-3-b3c7715397b5>:88: VisibleDeprecationWarning: Creating an ndarray from ragged nested sequences (which is a list-or-tuple of lists-or-tuples-or ndarrays with different lengths or shapes) is deprecated. If you meant to do this, you must specify 'dtype=object' when creating the ndarray.\n",
      "  X_train = np.array(tokenizer.texts_to_sequences(X_train))\n",
      "<ipython-input-3-b3c7715397b5>:89: VisibleDeprecationWarning: Creating an ndarray from ragged nested sequences (which is a list-or-tuple of lists-or-tuples-or ndarrays with different lengths or shapes) is deprecated. If you meant to do this, you must specify 'dtype=object' when creating the ndarray.\n",
      "  X_test = np.array(tokenizer.texts_to_sequences(X_test))\n"
     ]
    }
   ],
   "source": [
    "# X_train, X_test, y_train, y_test, vocab_size, sentence_len = get_cleaned_data()"
   ]
  },
  {
   "cell_type": "code",
   "execution_count": null,
   "metadata": {},
   "outputs": [],
   "source": []
  }
 ],
 "metadata": {
  "colab": {
   "provenance": []
  },
  "kernelspec": {
   "display_name": "Python 3",
   "language": "python",
   "name": "python3"
  },
  "language_info": {
   "codemirror_mode": {
    "name": "ipython",
    "version": 3
   },
   "file_extension": ".py",
   "mimetype": "text/x-python",
   "name": "python",
   "nbconvert_exporter": "python",
   "pygments_lexer": "ipython3",
   "version": "3.8.5"
  }
 },
 "nbformat": 4,
 "nbformat_minor": 1
}
